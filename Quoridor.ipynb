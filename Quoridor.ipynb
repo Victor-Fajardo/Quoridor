{
 "cells": [
  {
   "cell_type": "markdown",
   "source": [
    "![image](data:image/jpeg;base64,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)\n",
    "# Trabajo Parcial\n",
    "## Quoridor\n",
    "## CC184 - Complejidad Algorítmica - UPC\n",
    "## Profesor\n",
    "Luis Martin Canaval Sanchez\n",
    "## Integrantes\n",
    "- Sebastian Wilder Contreras - U20171D516\n",
    "- Marc Oliva Eslava - U201421830\n",
    "- Víctor Fajardo Rojas - U201612009"
   ],
   "metadata": {
    "collapsed": false
   }
  },
  {
   "cell_type": "markdown",
   "source": [
    "# Índice\n",
    "1. Introducción\n",
    "1. Estado del Arte\n",
    "1. Metodología\n",
    "1. Experimentos y Resultados\n",
    "1. Conclusiones\n",
    "1. Bibliografía"
   ],
   "metadata": {
    "collapsed": false,
    "pycharm": {
     "name": "#%% md\n"
    }
   }
  },
  {
   "cell_type": "markdown",
   "source": [
    "# Introducción\n",
    "\n",
    "Este trabajo consiste en la implementación del juego de mesa “Quoridor” como un programa desarrollado en Python.\n",
    "\n",
    "El juego “Quoridor” consta de un tablero de 9x9 recuadros, una ficha por cada jugador (con un mínimo de 2 y un máximo de 4) y un total de 20 paredes las cuales son distribuidas de forma equitativa entre todos los jugadores.\n",
    "El objetivo de este es mover la ficha de jugador correspondiente a la casilla del extremo opuesto a donde esta empieza.\n",
    "\n",
    "El juego consta con un sistema de turnos, en el cual, el jugador correspondiente deberá mover su ficha de forma vertical u horizontal (salvo excepciones), así mismo el jugador puede optar por colocar una barrera en el tablero, esto sirve para obstaculizar la ficha del resto de jugadores y por ende que demoren más en llegar al extremo opuesto. Ha de mencionarse que no está permitido encerrar una ficha con barreras ni tampoco hacer una casilla inaccesible con las mismas.\n",
    "\n",
    "Ante la situación en la cual un jugador se encontrase frente a otro, existe la opción de saltar por encima de la otra ficha de ser posible, en caso contrario se permite moverse una casilla de forma diagonal.\n",
    "Lo explicado anteriormente será implementado en este trabajo utilizando Python como lenguaje de programación, de forma que pueda ser jugado en contra de un Bot con dificultad variable."
   ],
   "metadata": {
    "collapsed": false,
    "pycharm": {
     "name": "#%% md\n"
    }
   }
  },
  {
   "cell_type": "markdown",
   "source": [
    "# Estado del Arte\n",
    "En esta sección, se mostrará algunos conceptos y algoritmos que nos ayudaran a resolver los problemas del juego “Quoridor”.\n",
    "\n",
    "## Backtracking\n",
    "Es una técnica algorítmica que se basa en el enfoque de fuerza bruta, el cual considera todas las posibles combinaciones para resolver un problema. Con esta técnica podemos resolver el problema: Encontrar un camino hacia el otro lado del tablero para ganar la partida.\n",
    "\n",
    "## Teoría de grafos\n",
    "\n",
    "### BFS (breadth-first-search)\n",
    "Un algoritmo de teoría de grafos que nos ayuda a recorrer todo el grafo por “niveles”, teniendo esta propiedad de recorrido, nos puede servir para el siguiente problema: Encontrar el camino más corto desde la posición del jugador (I.A.) hasta el otro lado del tablero.\n",
    "\n",
    "Este algoritmo es muy eficiente, ya que su complejidad es de O(V + E), donde V es la cantidad de vértices del grafo G y E es la cantidad de aristas en el grafo G.\n",
    "\n",
    "### Componentes conexas\n",
    "Es un concepto en teoría de grafos, para todo grafo no dirigido, podemos dividir el conjunto de vértices en varios subconjuntos, de tal forma que para dos vértices cualesquiera que pertenecen al mismo subconjunto, exista un camino entre ellos.\n",
    "\n",
    "Este concepto nos ayudará a entender el siguiente concepto y algoritmo.\n",
    "\n",
    "### Puente, borde de corte o arco de corte\n",
    "En teoría de grafos, un puente es todo nodo que cumple lo siguiente: Si eliminamos al nodo v entonces el grafo G tendrá más componentes conexas. Es decir, si eliminamos dicho nodo del grafo, la cantidad de componentes conexas que tiene el grafo aumentará.\n",
    "\n",
    "Este concepto y algoritmo nos puede ayudar para resolver el problema sobre: Como saber y mantener el tablero con posibles caminos para que cualquier jugador pueda llegar al otro lado.\n",
    "\n",
    "Es decir, podemos saber si al poner una pared en el juego “Quoridor”, esta elimina un puente y de esta forma, cumplir la regla de que todo jugador tenga al menos un camino para ganar el juego.\n",
    "\n",
    "### Algoritmo MiniMax\n",
    "\n",
    "En el campo de inteligencia artificial y en teoría de juegos, es un algoritmo de decisión el cual, tomando como referencia el estado del juego (entiéndase a estado de juego como las posiciones de las fichas en ajedrez o como las casillas marcadas en Tic-Tac-Toe), elige el siguiente movimiento de tal manera que sea el mejor para ti suponiendo que el contrincante escoja la peor opción para ti.\n",
    "\n",
    "Es un algoritmo recursivo, y se puede entender como un árbol donde cada nodo o vértice representa un estado del juego.\n",
    "![image](https://i.stack.imgur.com/lrXqH.png)\n",
    "La decisión de tomar el mejor camino se toma utilizando la información de los hijos, donde se calcula un número positivo cuando ese estado de juego te beneficia y un número negativo cuando no (cuando el contrincante se beneficia). En cada nivel del árbol se van intercambiando los turnos (en un nivel, es tu turno en todos los estados de juego y en otro nivel, el turno de mover es el de tu contrincante) y en base a esto se decide si entre los hijos se escoge el mayor de todos (el que da mayor beneficio) o el menor de todos (menor beneficio).\n",
    "\n",
    "Este algoritmo nos puede ayudar a la construcción de la inteligencia artificial del juego “Quoridor”.\n",
    "\n",
    "### Alpha-Beta pruning\n",
    "\n",
    "El algoritmo MiniMax puede ser optimizado utilizando el Apha-Beta pruning. Debido a que el algoritmo MiniMax considera todos los estados de juegos para elegir el siguiente movimiento, se puede evitar el cálculo de algunos estados de juego cuyo valor no influya en el resultado final, esta decisión de podar algunas hojas del árbol de juego (Figura 1) se realiza tomando en cuenta los cálculos de otras hojas que ya fueron calculadas."
   ],
   "metadata": {
    "collapsed": false,
    "pycharm": {
     "name": "#%% md\n"
    }
   }
  },
  {
   "cell_type": "markdown",
   "source": [
    "# Metodología\n",
    "A continuación, se detalla el proceso a seguir para cumplir con el objetivo del proyecto.\n",
    "\n",
    "## Análisis\n",
    "La situación que se planteó para este proyecto fue encontrar una solución viable para el juego quoridor.\n",
    "\n",
    "## Objetivos\n",
    "\n",
    "- Desarrollar la competencia general de razonamiento cuantitativo y la competencia específica de uso de técnicas y herramientas acorde a los objetivos del curso.\n",
    "\n",
    "- Desarrollar un algoritmo que permita resolver completa o parcialmente el problema del juego quoridor.\n",
    "\n",
    "- Determinar la importancia de la aplicación de algoritmos eficientes a la hora de resolver un problema.\n",
    "\n",
    "- Analizar la eficiencia y complejidad de los algoritmos planteados.\n",
    "\n",
    "## Marco teórico\n",
    "\n",
    "### Grafos\n",
    "En matemáticas y ciencias de la computación, un grafo (del griego grafos: dibujo, imagen) es un conjunto de objetos llamados vértices o nodos unidos por enlaces llamados aristas o arcos, que permiten representar relaciones binarias entre elementos de un conjunto. Son objeto de estudio de la teoría de grafos. Típicamente, un grafo se representa gráficamente como un conjunto de puntos (vértices o nodos) unidos por líneas (aristas). Desde un punto de vista práctico, los grafos permiten estudiar las interrelaciones entre unidades que interactúan unas con otras. Por ejemplo, una red de computadoras puede representarse y estudiarse mediante un grafo, en el cual los vértices representan terminales y las aristas representan conexiones (las cuales, a su vez, pueden ser cables o conexiones inalámbricas).\n",
    "![image](https://upload.wikimedia.org/wikipedia/commons/thumb/5/5b/6n-graf.svg/250px-6n-graf.svg.png)\n",
    "## Herramientas de desarrollo\n",
    "El programa se implementará en Python.\n",
    "Para manejo de matrices usaremos la librería **Numpy** y para el manejo de representación en grafos se utilizará **NetworkX**.\n",
    "Por último, se utilizará la librería **pygame** para la interfaz gráfica."
   ],
   "metadata": {
    "collapsed": false,
    "pycharm": {
     "name": "#%% md\n"
    }
   }
  },
  {
   "cell_type": "markdown",
   "source": [
    "# Experimentos y Resultados\n",
    "En las siguientes lineas se mostrará los 3 algoritmos que se implementaron para resolver el problema de encontrar un camino en Quoridor.\n",
    "Se realizaran experimentos y se mostraran los resultados."
   ],
   "metadata": {
    "collapsed": false
   }
  },
  {
   "cell_type": "code",
   "execution_count": 37,
   "outputs": [],
   "source": [
    "#Imports que se utilizaran a lo largo del notebook\n",
    "import networkx\n",
    "import matplotlib.pyplot as plt\n",
    "from collections import deque"
   ],
   "metadata": {
    "collapsed": false,
    "pycharm": {
     "name": "#%%\n"
    }
   }
  },
  {
   "cell_type": "markdown",
   "source": [
    "Primero se mostrará la representación del tablero de Quoridor"
   ],
   "metadata": {
    "collapsed": false
   }
  },
  {
   "cell_type": "code",
   "execution_count": 38,
   "outputs": [],
   "source": [
    "rows = 9\n",
    "columns = 9\n",
    "\n",
    "Board_Graph = networkx.Graph()\n",
    "Board_Graph.add_nodes_from((i, j) for i in range(rows) for j in range(columns))\n",
    "Board_Graph.add_edges_from((((i, j), (i - 1, j)) for i in range(rows) for j in range(columns) if i > 0))\n",
    "Board_Graph.add_edges_from((((i, j), (i, j - 1)) for i in range(rows) for j in range(columns) if j > 0))"
   ],
   "metadata": {
    "collapsed": false,
    "pycharm": {
     "name": "#%%\n"
    }
   }
  },
  {
   "cell_type": "markdown",
   "source": [
    "# BFS"
   ],
   "metadata": {
    "collapsed": false
   }
  },
  {
   "cell_type": "code",
   "execution_count": 39,
   "outputs": [],
   "source": [
    "def bfs(ini, fin):\n",
    "    def invalid(x, y):\n",
    "        return (x < 0) or (x >= rows) or (y < 0) or (y >= columns) \\\n",
    "               or (visit[x][y])\n",
    "\n",
    "    def reconstructionPath():\n",
    "        path = deque()\n",
    "        ix = fin\n",
    "        while ix is not dad[ini]:\n",
    "            path.appendleft(ix)\n",
    "            ix = dad[ix]\n",
    "\n",
    "        return path\n",
    "\n",
    "    visit = [[False for col in range(columns)] for row in range(rows)]\n",
    "    dx = [0, 0, 1, -1]\n",
    "    dy = [1, -1, 0, 0]\n",
    "    dad = {}\n",
    "    queue = deque()\n",
    "    dad[ini] = (-1, -1)\n",
    "    queue.appendleft(ini)\n",
    "    #visit[ini[0]][ini[1]] = True\n",
    "    while len(queue):\n",
    "        cur = queue.popleft()\n",
    "        visit[cur[0]][cur[1]] = True\n",
    "        for op in range(4):\n",
    "            nx, ny = cur[0] + dx[op], cur[1] + dy[op]\n",
    "            if (not invalid(nx, ny)) and (Board_Graph.has_edge(cur, (nx, ny))):\n",
    "                queue.append((nx, ny))\n",
    "                #visit[nx][ny] = True\n",
    "                dad[(nx, ny)] = cur\n",
    "\n",
    "    p = reconstructionPath()\n",
    "    return p"
   ],
   "metadata": {
    "collapsed": false,
    "pycharm": {
     "name": "#%%\n"
    }
   }
  },
  {
   "cell_type": "code",
   "execution_count": 40,
   "outputs": [
    {
     "name": "stdout",
     "output_type": "stream",
     "text": [
      "17\n",
      "deque([(0, 0), (1, 0), (2, 0), (3, 0), (4, 0), (5, 0), (6, 0), (7, 0), (8, 0), (8, 1), (8, 2), (8, 3), (8, 4), (8, 5), (8, 6), (8, 7), (8, 8)])\n"
     ]
    }
   ],
   "source": [
    "#Ahora vamos a probar el BFS con los vértices (0, 0) y (8,8).\n",
    "inicio = (0, 0)\n",
    "final = (8, 8)\n",
    "#Ejecutamos el bfs\n",
    "path = bfs(inicio, final)\n",
    "#Imprimos la cantidad de vértices que hay en el camino\n",
    "print(len(path))\n",
    "#Imprimimos el camino\n",
    "print(path)"
   ],
   "metadata": {
    "collapsed": false,
    "pycharm": {
     "name": "#%%\n"
    }
   }
  },
  {
   "cell_type": "markdown",
   "source": [
    "![imagen](img/BFSimages.PNG)"
   ],
   "metadata": {
    "collapsed": false
   }
  },
  {
   "cell_type": "markdown",
   "source": [
    "# DFS"
   ],
   "metadata": {
    "collapsed": false,
    "pycharm": {
     "name": "#%% md\n"
    }
   }
  },
  {
   "cell_type": "code",
   "execution_count": 41,
   "outputs": [],
   "source": [
    "def dfs_interativo(ini, fin):\n",
    "    def invalid(x, y):\n",
    "        return (x < 0) or (x >= rows) or (y < 0) or (y >= columns) \\\n",
    "               or (visit[x][y])\n",
    "\n",
    "    def reconstructionPath():\n",
    "        path = deque()\n",
    "        ix = fin\n",
    "        while ix is not dad[ini]:\n",
    "            path.appendleft(ix)\n",
    "            ix = dad[ix]\n",
    "\n",
    "        return path\n",
    "\n",
    "\n",
    "\n",
    "    visit = [[False for col in range(columns)] for row in range(rows)]\n",
    "    dx = [0, 0, 1, -1]\n",
    "    dy = [1, -1, 0, 0]\n",
    "    dad = {}\n",
    "    queue = deque()\n",
    "    dad[ini] = (-1, -1)\n",
    "    queue.appendleft(ini)\n",
    "    #visit[ini[0]][ini[1]] = True\n",
    "    while len(queue):\n",
    "        cur = queue.pop()\n",
    "        visit[cur[0]][cur[1]] = True\n",
    "        for op in range(4):\n",
    "            nx, ny = cur[0] + dx[op], cur[1] + dy[op]\n",
    "            if (not invalid(nx, ny)) and (Board_Graph.has_edge(cur, (nx, ny))):\n",
    "                queue.append((nx, ny))\n",
    "                #visit[nx][ny] = True\n",
    "                dad[(nx, ny)] = cur\n",
    "\n",
    "    p = reconstructionPath()\n",
    "    return p"
   ],
   "metadata": {
    "collapsed": false,
    "pycharm": {
     "name": "#%%\n"
    }
   }
  },
  {
   "cell_type": "code",
   "execution_count": 42,
   "outputs": [
    {
     "name": "stdout",
     "output_type": "stream",
     "text": [
      "81\n",
      "deque([(0, 0), (1, 0), (2, 0), (3, 0), (4, 0), (5, 0), (6, 0), (7, 0), (8, 0), (8, 1), (7, 1), (6, 1), (5, 1), (4, 1), (3, 1), (2, 1), (1, 1), (0, 1), (0, 2), (1, 2), (2, 2), (3, 2), (4, 2), (5, 2), (6, 2), (7, 2), (8, 2), (8, 3), (7, 3), (6, 3), (5, 3), (4, 3), (3, 3), (2, 3), (1, 3), (0, 3), (0, 4), (1, 4), (2, 4), (3, 4), (4, 4), (5, 4), (6, 4), (7, 4), (8, 4), (8, 5), (7, 5), (6, 5), (5, 5), (4, 5), (3, 5), (2, 5), (1, 5), (0, 5), (0, 6), (1, 6), (2, 6), (3, 6), (4, 6), (5, 6), (6, 6), (7, 6), (8, 6), (8, 7), (7, 7), (6, 7), (5, 7), (4, 7), (3, 7), (2, 7), (1, 7), (0, 7), (0, 8), (1, 8), (2, 8), (3, 8), (4, 8), (5, 8), (6, 8), (7, 8), (8, 8)])\n"
     ]
    }
   ],
   "source": [
    "#Ahora vamos a probar el DFS con los vértices (0, 0) y (8,8).\n",
    "inicio = (0, 0)\n",
    "final = (8, 8)\n",
    "#Ejecutamos el DFS\n",
    "path = dfs_interativo(inicio, final)\n",
    "#Imprimos la cantidad de vértices que hay en el camino\n",
    "print(len(path))\n",
    "#Imprimimos el camino\n",
    "print(path)"
   ],
   "metadata": {
    "collapsed": false,
    "pycharm": {
     "name": "#%%\n"
    }
   }
  },
  {
   "cell_type": "markdown",
   "source": [
    "![imagen](img/DFSimages.PNG)"
   ],
   "metadata": {
    "collapsed": false
   }
  },
  {
   "cell_type": "markdown",
   "source": [
    "# Fuerza Bruta"
   ],
   "metadata": {
    "collapsed": false,
    "pycharm": {
     "name": "#%% md\n"
    }
   }
  },
  {
   "cell_type": "code",
   "execution_count": 43,
   "outputs": [],
   "source": [
    "def fb(ini, fin):\n",
    "    px = deque()\n",
    "    px.append(ini)\n",
    "\n",
    "    def fuerza_bruta(ini, fin):\n",
    "        if ini == fin:\n",
    "            return\n",
    "\n",
    "        def invalid(x, y):\n",
    "            return (x < 0) or (x >= rows) or (y < 0) or (y >= columns) \\\n",
    "                   or (visit[x][y])\n",
    "\n",
    "        visit = [[False for col in range(columns)] for row in range(rows)]\n",
    "        nodoIniAux = ini\n",
    "        pasoX = 0\n",
    "        pasoY = 0\n",
    "        visit[nodoIniAux[0]][nodoIniAux[1]] = True\n",
    "\n",
    "        if nodoIniAux[0] < fin[0]:\n",
    "            pasoX += 1\n",
    "        elif nodoIniAux[0] < fin[0]:\n",
    "            pasoX -= 1\n",
    "        elif nodoIniAux[0] == fin[0]:\n",
    "            if (nodoIniAux[1] < fin[1]):\n",
    "                pasoY += 1\n",
    "            elif (nodoIniAux[1] > fin[1]):\n",
    "                pasoY -= 1\n",
    "\n",
    "        nx, ny = nodoIniAux[0] + pasoX, nodoIniAux[1] + pasoY\n",
    "        if (not invalid(nx, ny)) and (Board_Graph.has_edge(nodoIniAux, (nx, ny))):\n",
    "            ##se agrega el nodo valido\n",
    "            px.append((nx, ny))\n",
    "            fuerza_bruta((nx, ny), fin)\n",
    "\n",
    "    fuerza_bruta(ini, fin)\n",
    "    return px"
   ],
   "metadata": {
    "collapsed": false,
    "pycharm": {
     "name": "#%%\n"
    }
   }
  },
  {
   "cell_type": "code",
   "execution_count": 44,
   "outputs": [
    {
     "name": "stdout",
     "output_type": "stream",
     "text": [
      "17\n",
      "deque([(0, 0), (1, 0), (2, 0), (3, 0), (4, 0), (5, 0), (6, 0), (7, 0), (8, 0), (8, 1), (8, 2), (8, 3), (8, 4), (8, 5), (8, 6), (8, 7), (8, 8)])\n"
     ]
    }
   ],
   "source": [
    "#Ahora vamos a probar la Fuerza Bruta con los vértices (0, 0) y (8,8).\n",
    "inicio = (0, 0)\n",
    "final = (8, 8)\n",
    "#Ejecutamos Fuerza Bruta\n",
    "path = fb(inicio, final)\n",
    "#Imprimos la cantidad de vértices que hay en el camino\n",
    "print(len(path))\n",
    "#Imprimimos el camino\n",
    "print(path)"
   ],
   "metadata": {
    "collapsed": false,
    "pycharm": {
     "name": "#%%\n"
    }
   }
  },
  {
   "cell_type": "markdown",
   "source": [
    "![imagen](img/FBimages.PNG)"
   ],
   "metadata": {
    "collapsed": false
   }
  },
  {
   "cell_type": "code",
   "source": [
    "#Caso en el que se agregan muros\n",
    "#Creating a wall will delete the edge\n",
    "def RemoveEdge(x0, y0, x1, y1):\n",
    "\tBoard_Graph.remove_edge((x0, y0), (x1, y1))\n",
    "\treturn 0\n",
    "\n",
    "RemoveEdge(0,0,0,1)\n",
    "RemoveEdge(0,2,1,2)\n",
    "RemoveEdge(7,5,8,5)\n",
    "RemoveEdge(4,3,4,4)\n",
    "RemoveEdge(0,6,1,6)\n",
    "RemoveEdge(2,0,3,0)"
   ],
   "metadata": {
    "collapsed": false,
    "pycharm": {
     "name": "#%%\n"
    }
   },
   "execution_count": 45,
   "outputs": [
    {
     "data": {
      "text/plain": "0"
     },
     "execution_count": 45,
     "metadata": {},
     "output_type": "execute_result"
    }
   ]
  },
  {
   "cell_type": "markdown",
   "source": [
    "Probamos los algoritmos con muros"
   ],
   "metadata": {
    "collapsed": false,
    "pycharm": {
     "name": "#%% md\n"
    }
   }
  },
  {
   "cell_type": "markdown",
   "source": [
    "## BFS con muros"
   ],
   "metadata": {
    "collapsed": false,
    "pycharm": {
     "name": "#%% md\n"
    }
   }
  },
  {
   "cell_type": "code",
   "source": [
    "\n",
    "#Ahora vamos a probar el BFS con los vértices (0, 0) y (8,8).\n",
    "inicio = (0, 0)\n",
    "final = (8, 8)\n",
    "#Ejecutamos el bfs\n",
    "path = bfs(inicio, final)\n",
    "#Imprimos la cantidad de vértices que hay en el camino\n",
    "print(len(path))\n",
    "\n",
    "#Imprimimos el camino\n",
    "print(path)"
   ],
   "metadata": {
    "collapsed": false,
    "pycharm": {
     "name": "#%%\n"
    }
   },
   "execution_count": 46,
   "outputs": [
    {
     "name": "stdout",
     "output_type": "stream",
     "text": [
      "17\n",
      "deque([(0, 0), (1, 0), (2, 0), (2, 1), (3, 1), (4, 1), (5, 1), (6, 1), (7, 1), (8, 1), (8, 2), (8, 3), (8, 4), (8, 5), (8, 6), (8, 7), (8, 8)])\n"
     ]
    }
   ]
  },
  {
   "cell_type": "markdown",
   "source": [
    "![imagen](img/BFSwithwalls.PNG)"
   ],
   "metadata": {
    "collapsed": false,
    "pycharm": {
     "name": "#%% md\n"
    }
   }
  },
  {
   "cell_type": "markdown",
   "source": [
    "## DFS con muros"
   ],
   "metadata": {
    "collapsed": false
   }
  },
  {
   "cell_type": "code",
   "execution_count": 47,
   "outputs": [
    {
     "name": "stdout",
     "output_type": "stream",
     "text": [
      "51\n",
      "deque([(0, 0), (1, 0), (2, 0), (2, 1), (1, 1), (0, 1), (0, 2), (0, 3), (1, 3), (2, 3), (3, 3), (4, 3), (5, 3), (6, 3), (7, 3), (8, 3), (8, 4), (7, 4), (6, 4), (5, 4), (4, 4), (3, 4), (2, 4), (1, 4), (0, 4), (0, 5), (1, 5), (2, 5), (3, 5), (4, 5), (5, 5), (6, 5), (7, 5), (7, 6), (6, 6), (5, 6), (4, 6), (3, 6), (2, 6), (1, 6), (1, 7), (0, 7), (0, 8), (1, 8), (2, 8), (3, 8), (4, 8), (5, 8), (6, 8), (7, 8), (8, 8)])\n"
     ]
    }
   ],
   "source": [
    "#Ahora vamos a probar el DFS con los vértices (0, 0) y (8,8).\n",
    "inicio = (0, 0)\n",
    "final = (8, 8)\n",
    "#Ejecutamos el DFS\n",
    "path = dfs_interativo(inicio, final)\n",
    "#Imprimos la cantidad de vértices que hay en el camino\n",
    "print(len(path))\n",
    "#Imprimimos el camino\n",
    "print(path)"
   ],
   "metadata": {
    "collapsed": false,
    "pycharm": {
     "name": "#%%\n"
    }
   }
  },
  {
   "cell_type": "markdown",
   "source": [
    "![imagen](img/DFSwithwalls.PNG)"
   ],
   "metadata": {
    "collapsed": false
   }
  },
  {
   "cell_type": "markdown",
   "source": [
    "## Fuerza Bruta con muros"
   ],
   "metadata": {
    "collapsed": false
   }
  },
  {
   "cell_type": "code",
   "execution_count": 48,
   "outputs": [
    {
     "name": "stdout",
     "output_type": "stream",
     "text": [
      "3\n",
      "deque([(0, 0), (1, 0), (2, 0)])\n"
     ]
    }
   ],
   "source": [
    "#Ahora vamos a probar la Fuerza Bruta con los vértices (0, 0) y (8,8).\n",
    "inicio = (0, 0)\n",
    "final = (8, 8)\n",
    "#Ejecutamos Fuerza Bruta\n",
    "path = fb(inicio, final)\n",
    "#Imprimos la cantidad de vértices que hay en el camino\n",
    "print(len(path))\n",
    "#Imprimimos el camino\n",
    "print(path)"
   ],
   "metadata": {
    "collapsed": false,
    "pycharm": {
     "name": "#%%\n"
    }
   }
  },
  {
   "cell_type": "markdown",
   "source": [
    "![imagen](img/FBwithwalls.PNG)"
   ],
   "metadata": {
    "collapsed": false
   }
  },
  {
   "cell_type": "markdown",
   "source": [
    "# Conclusiones\n",
    "\n",
    "A partir de la sección anterior podemos observar que:\n",
    "1. El algoritmo BFS es el que encuentra el camino más corto junto con el de Fuerza Bruta, en situaciones donde no hay muros.\n",
    "1. A pesar de tener la misma complejidad el BFS y DFS, el que encuentra el camino más corto es el BFS.\n",
    "1. El tiempo de ejecución del BFS es mucho mayor al del DFS y Fuerza Bruta. A pesar de que tienen la misma complejidad algorítmica $O(V+E)$.\n",
    "1. Los algoritmos que funcionan en casos de que hay muros, son el BFS y DFS. Fuerza Bruta no contempla los muros.\n",
    "1. Cuando hay muros, el BFS sigue encontrando el camino más corto."
   ],
   "metadata": {
    "collapsed": false,
    "pycharm": {
     "name": "#%% md\n"
    }
   }
  },
  {
   "cell_type": "markdown",
   "source": [
    "# Bibliografía\n",
    "\n",
    "Borovska, P., Lazarova, M. (2007). Efficiency of parallel minimax algorithm for game tree search. Association for Computing Machinery, New York, NY, USA, Article 14, 1–6. DOI: https://doi.org/10.1145/1330598.1330615\n",
    "\n",
    "MIT OpenCourseWare. (2014, 10 enero). 6. Search: Games, Minimax, and Alpha-Beta [Vídeo]. YouTube. https://www.youtube.com/watch?v=STjW3eH0Cik\n",
    "\n",
    "Sebastian Lague. (2018, 20 abril). Algorithms Explained – minimax and alpha-beta pruning [Vídeo]. YouTube. https://www.youtube.com/watch?v=l-hh51ncgDI\n",
    "\n",
    "The Coding Train. (2019, 11 diciembre). Coding Challenge 154: Tic Tac Toe AI with Minimax Algorithm [Vídeo]. YouTube. https://www.youtube.com/watch?v=trKjYdBASyQ\n"
   ],
   "metadata": {
    "collapsed": false,
    "pycharm": {
     "name": "#%% md\n"
    }
   }
  }
 ],
 "metadata": {
  "kernelspec": {
   "display_name": "Python 3",
   "language": "python",
   "name": "python3"
  },
  "language_info": {
   "codemirror_mode": {
    "name": "ipython",
    "version": 2
   },
   "file_extension": ".py",
   "mimetype": "text/x-python",
   "name": "python",
   "nbconvert_exporter": "python",
   "pygments_lexer": "ipython2",
   "version": "2.7.6"
  }
 },
 "nbformat": 4,
 "nbformat_minor": 0
}